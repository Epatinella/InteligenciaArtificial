{
 "cells": [
  {
   "cell_type": "code",
   "execution_count": 4,
   "id": "cae92f66",
   "metadata": {},
   "outputs": [
    {
     "name": "stderr",
     "output_type": "stream",
     "text": [
      "[nltk_data] Downloading package stopwords to\n",
      "[nltk_data]     /home/eduardo/nltk_data...\n",
      "[nltk_data]   Package stopwords is already up-to-date!\n"
     ]
    },
    {
     "data": {
      "text/plain": [
       "True"
      ]
     },
     "execution_count": 4,
     "metadata": {},
     "output_type": "execute_result"
    }
   ],
   "source": [
    "import nltk\n",
    "nltk.download('stopwords')\n"
   ]
  },
  {
   "cell_type": "code",
   "execution_count": 5,
   "id": "671e027b",
   "metadata": {},
   "outputs": [
    {
     "name": "stdout",
     "output_type": "stream",
     "text": [
      "['i', 'me', 'my', 'myself', 'we', 'our', 'ours', 'ourselves', 'you', \"you're\", \"you've\", \"you'll\", \"you'd\", 'your', 'yours', 'yourself', 'yourselves', 'he', 'him', 'his', 'himself', 'she', \"she's\", 'her', 'hers', 'herself', 'it', \"it's\", 'its', 'itself', 'they', 'them', 'their', 'theirs', 'themselves', 'what', 'which', 'who', 'whom', 'this', 'that', \"that'll\", 'these', 'those', 'am', 'is', 'are', 'was', 'were', 'be', 'been', 'being', 'have', 'has', 'had', 'having', 'do', 'does', 'did', 'doing', 'a', 'an', 'the', 'and', 'but', 'if', 'or', 'because', 'as', 'until', 'while', 'of', 'at', 'by', 'for', 'with', 'about', 'against', 'between', 'into', 'through', 'during', 'before', 'after', 'above', 'below', 'to', 'from', 'up', 'down', 'in', 'out', 'on', 'off', 'over', 'under', 'again', 'further', 'then', 'once', 'here', 'there', 'when', 'where', 'why', 'how', 'all', 'any', 'both', 'each', 'few', 'more', 'most', 'other', 'some', 'such', 'no', 'nor', 'not', 'only', 'own', 'same', 'so', 'than', 'too', 'very', 's', 't', 'can', 'will', 'just', 'don', \"don't\", 'should', \"should've\", 'now', 'd', 'll', 'm', 'o', 're', 've', 'y', 'ain', 'aren', \"aren't\", 'couldn', \"couldn't\", 'didn', \"didn't\", 'doesn', \"doesn't\", 'hadn', \"hadn't\", 'hasn', \"hasn't\", 'haven', \"haven't\", 'isn', \"isn't\", 'ma', 'mightn', \"mightn't\", 'mustn', \"mustn't\", 'needn', \"needn't\", 'shan', \"shan't\", 'shouldn', \"shouldn't\", 'wasn', \"wasn't\", 'weren', \"weren't\", 'won', \"won't\", 'wouldn', \"wouldn't\"]\n"
     ]
    }
   ],
   "source": [
    "from nltk.corpus import stopwords\n",
    "print(stopwords.words('english'))"
   ]
  },
  {
   "cell_type": "code",
   "execution_count": 7,
   "id": "b21d72e2",
   "metadata": {},
   "outputs": [
    {
     "name": "stdout",
     "output_type": "stream",
     "text": [
      "['de', 'la', 'que', 'el', 'en', 'y', 'a', 'los', 'del', 'se', 'las', 'por', 'un', 'para', 'con', 'no', 'una', 'su', 'al', 'lo', 'como', 'más', 'pero', 'sus', 'le', 'ya', 'o', 'este', 'sí', 'porque', 'esta', 'entre', 'cuando', 'muy', 'sin', 'sobre', 'también', 'me', 'hasta', 'hay', 'donde', 'quien', 'desde', 'todo', 'nos', 'durante', 'todos', 'uno', 'les', 'ni', 'contra', 'otros', 'ese', 'eso', 'ante', 'ellos', 'e', 'esto', 'mí', 'antes', 'algunos', 'qué', 'unos', 'yo', 'otro', 'otras', 'otra', 'él', 'tanto', 'esa', 'estos', 'mucho', 'quienes', 'nada', 'muchos', 'cual', 'poco', 'ella', 'estar', 'estas', 'algunas', 'algo', 'nosotros', 'mi', 'mis', 'tú', 'te', 'ti', 'tu', 'tus', 'ellas', 'nosotras', 'vosotros', 'vosotras', 'os', 'mío', 'mía', 'míos', 'mías', 'tuyo', 'tuya', 'tuyos', 'tuyas', 'suyo', 'suya', 'suyos', 'suyas', 'nuestro', 'nuestra', 'nuestros', 'nuestras', 'vuestro', 'vuestra', 'vuestros', 'vuestras', 'esos', 'esas', 'estoy', 'estás', 'está', 'estamos', 'estáis', 'están', 'esté', 'estés', 'estemos', 'estéis', 'estén', 'estaré', 'estarás', 'estará', 'estaremos', 'estaréis', 'estarán', 'estaría', 'estarías', 'estaríamos', 'estaríais', 'estarían', 'estaba', 'estabas', 'estábamos', 'estabais', 'estaban', 'estuve', 'estuviste', 'estuvo', 'estuvimos', 'estuvisteis', 'estuvieron', 'estuviera', 'estuvieras', 'estuviéramos', 'estuvierais', 'estuvieran', 'estuviese', 'estuvieses', 'estuviésemos', 'estuvieseis', 'estuviesen', 'estando', 'estado', 'estada', 'estados', 'estadas', 'estad', 'he', 'has', 'ha', 'hemos', 'habéis', 'han', 'haya', 'hayas', 'hayamos', 'hayáis', 'hayan', 'habré', 'habrás', 'habrá', 'habremos', 'habréis', 'habrán', 'habría', 'habrías', 'habríamos', 'habríais', 'habrían', 'había', 'habías', 'habíamos', 'habíais', 'habían', 'hube', 'hubiste', 'hubo', 'hubimos', 'hubisteis', 'hubieron', 'hubiera', 'hubieras', 'hubiéramos', 'hubierais', 'hubieran', 'hubiese', 'hubieses', 'hubiésemos', 'hubieseis', 'hubiesen', 'habiendo', 'habido', 'habida', 'habidos', 'habidas', 'soy', 'eres', 'es', 'somos', 'sois', 'son', 'sea', 'seas', 'seamos', 'seáis', 'sean', 'seré', 'serás', 'será', 'seremos', 'seréis', 'serán', 'sería', 'serías', 'seríamos', 'seríais', 'serían', 'era', 'eras', 'éramos', 'erais', 'eran', 'fui', 'fuiste', 'fue', 'fuimos', 'fuisteis', 'fueron', 'fuera', 'fueras', 'fuéramos', 'fuerais', 'fueran', 'fuese', 'fueses', 'fuésemos', 'fueseis', 'fuesen', 'sintiendo', 'sentido', 'sentida', 'sentidos', 'sentidas', 'siente', 'sentid', 'tengo', 'tienes', 'tiene', 'tenemos', 'tenéis', 'tienen', 'tenga', 'tengas', 'tengamos', 'tengáis', 'tengan', 'tendré', 'tendrás', 'tendrá', 'tendremos', 'tendréis', 'tendrán', 'tendría', 'tendrías', 'tendríamos', 'tendríais', 'tendrían', 'tenía', 'tenías', 'teníamos', 'teníais', 'tenían', 'tuve', 'tuviste', 'tuvo', 'tuvimos', 'tuvisteis', 'tuvieron', 'tuviera', 'tuvieras', 'tuviéramos', 'tuvierais', 'tuvieran', 'tuviese', 'tuvieses', 'tuviésemos', 'tuvieseis', 'tuviesen', 'teniendo', 'tenido', 'tenida', 'tenidos', 'tenidas', 'tened']\n"
     ]
    }
   ],
   "source": [
    "print(stopwords.words('spanish'))"
   ]
  },
  {
   "cell_type": "code",
   "execution_count": 9,
   "id": "48735dbb",
   "metadata": {},
   "outputs": [
    {
     "name": "stderr",
     "output_type": "stream",
     "text": [
      "[nltk_data] Downloading package punkt to /home/eduardo/nltk_data...\n",
      "[nltk_data]   Unzipping tokenizers/punkt.zip.\n"
     ]
    },
    {
     "data": {
      "text/plain": [
       "True"
      ]
     },
     "execution_count": 9,
     "metadata": {},
     "output_type": "execute_result"
    }
   ],
   "source": [
    "nltk.download('punkt')\n"
   ]
  },
  {
   "cell_type": "code",
   "execution_count": 10,
   "id": "52ed7e26",
   "metadata": {},
   "outputs": [
    {
     "name": "stdout",
     "output_type": "stream",
     "text": [
      "['The', 'Palace', 'of', 'Westminster', 'serves', 'as', 'the', 'meeting', 'place', 'for', 'both', 'the', 'House', 'of', 'Commons', 'and', 'the', 'House', 'of', 'Lords', ',', 'the', 'two', 'houses', 'of', 'the', 'Parliament', 'of', 'the', 'United', 'Kingdom', '.', 'Informally', 'known', 'as', 'the', 'Houses', 'of', 'Parliament', 'after', 'its', 'occupants', ',', 'the', 'Palace', 'lies', 'on', 'the', 'north', 'bank', 'of', 'the', 'River', 'Thames', 'in', 'the', 'City', 'of', 'Westminster', ',', 'in', 'central', 'London', ',', 'England', '.']\n"
     ]
    }
   ],
   "source": [
    "from nltk.tokenize import word_tokenize\n",
    " \n",
    "example = \"The Palace of Westminster serves as the meeting place for both the House of Commons and the House of Lords, the two houses of the Parliament of the United Kingdom. Informally known as the Houses of Parliament after its occupants, the Palace lies on the north bank of the River Thames in the City of Westminster, in central London, England.\"\n",
    "# General lista de stop words \n",
    "stop_words = set(stopwords.words('english'))\n",
    "\n",
    "# Aplicar Tokenizer\n",
    "tokenized_text = word_tokenize(example)\n",
    "print(tokenized_text)\n",
    "\n"
   ]
  },
  {
   "cell_type": "code",
   "execution_count": 11,
   "id": "b344c6ea",
   "metadata": {},
   "outputs": [
    {
     "name": "stdout",
     "output_type": "stream",
     "text": [
      "['Palace', 'Westminster', 'serves', 'meeting', 'place', 'House', 'Commons', 'House', 'Lords', ',', 'two', 'houses', 'Parliament', 'United', 'Kingdom', '.', 'Informally', 'known', 'Houses', 'Parliament', 'occupants', ',', 'Palace', 'lies', 'north', 'bank', 'River', 'Thames', 'City', 'Westminster', ',', 'central', 'London', ',', 'England', '.']\n"
     ]
    }
   ],
   "source": [
    "# Crear lista sin stopwords\n",
    "example_no_stopwords = [x for x in tokenized_text if not x.lower() in stop_words]\n",
    "print(example_no_stopwords)"
   ]
  },
  {
   "cell_type": "code",
   "execution_count": 28,
   "id": "42b09686",
   "metadata": {},
   "outputs": [],
   "source": [
    "#Ejercicio\n",
    "#Obtener de la API una lista de Tweets que no sean retweet y que contengan el hashtag #football en inglés.\n",
    "#Realizar la tokenización y limpieza\n",
    "#Crear una nube de palabras\n",
    "\n",
    "import os\n",
    "from dotenv import load_dotenv\n",
    "# Cargar valores del archivo .env en las variables de entorno\n",
    "load_dotenv()\n",
    "# Cargar valor del token a variable\n",
    "bearer_token = os.environ.get(\"BEARER_TOKEN\")"
   ]
  },
  {
   "cell_type": "code",
   "execution_count": 29,
   "id": "72b8d155",
   "metadata": {},
   "outputs": [],
   "source": [
    "url = \"https://api.twitter.com/2/tweets/search/recent\"\n",
    "headers = {\n",
    "    \"Authorization\": f\"Bearer {bearer_token}\",\n",
    "    \"User-Agent\":\"v2FullArchiveSearchPython\"\n",
    "}\n",
    "hastag='#football'\n",
    "params = {\n",
    "    'query': f'{hastag} -is:retweet lang:en', #Va a traer los que tienen el hashtag '#machinelearning' y el -is:retweet es para que no traigra retweets\n",
    "    'max_results':100  #Y que traiga 100 resultados maximo\n",
    "}"
   ]
  },
  {
   "cell_type": "code",
   "execution_count": 30,
   "id": "d1c7213e",
   "metadata": {},
   "outputs": [
    {
     "name": "stdout",
     "output_type": "stream",
     "text": [
      "<Response [200]>\n",
      "{'data': [{'id': '1453429539321831428', 'text': 'Preston N.E. v Liverpool WATCH LIVE CANLI IZLE\\n#RedTogether #PNELIV #CarabaoCup #MATCHDAY #football #canlı #izle #watchlive #canlitvde #canlitv\\nhttps://t.co/vaGO9yuY3G'}, {'id': '1453429430739742730', 'text': '#FollowBack #AndyMurray #Football #Tennis #Sport #Sports #Keyrings Pls Follow &amp; RT!!!!!!!!!!!!!!!!!!!!!!'}, {'id': '1453429397554294785', 'text': '👉 $151.99 👈\\nPhiladelphia May 29 2010 Mega Ticket @topfanscorner \\n#Philadelphia #May   #Mega #Ticket #NFL #Football #NFLfans \\n\\nHurry up to get it for the best price!\\nhttps://t.co/TMb2REKPoV'}, {'id': '1453429300875522050', 'text': '👉 $8.99 👈\\nStickers Pack Cleveland Vinyl Cavaliers Aesthetic Stickers Pack of 31 pcs @topfanscorner \\n#Stickers #Pack #Cleveland #Vinyl #Cavaliers #Aesthetic #Stickers #Pack #NFL #Football #NFLfans \\n\\nHurry up to get it for the best price!\\nhttps://t.co/3pNzE2B0h6'}, {'id': '1453429260065153032', 'text': 'It seems Barcelona is worse than Manchester United 😂😂😂.\\nTwo fallen giants 🤦\\u200d♂️.\\n#Barcelona #mufc #football'}, {'id': '1453429095753191432', 'text': 'Claudio Ranieri in talks to become new Watford head coach via @90min https://t.co/nE068n5S0X #football'}, {'id': '1453429087939096577', 'text': \"We've had a lot of fun on our @we_are_lsc holiday clubs @crewevagrants \\n\\nToday was ...\\n\\n✅ Nerf Day \\n✅ Football \\n\\n2 more days left \\n\\n#nerfwars #nantwich #crewe #football #active #holidayclubs @ Crewe Vagrants Sports Club https://t.co/68eJhsiW3a\"}, {'id': '1453429072411828227', 'text': '👉 $299.00 👈\\nBlake Bortles Signed Jacksonville Jaguars Jersey @topfanscorner \\n#Blake #Bortles #Signed #JacksonvilleJaguars #Jersey #NFL #Football #NFLfans \\n\\nHurry up to get it for the best price!\\nhttps://t.co/o3YVpYO57O'}, {'id': '1453429014501240833', 'text': \"NFL Fantasy 2021 Start 'Em, Sit 'Em Week 8: Kickers - https://t.co/KBfeypnlIv https://t.co/Cx7TEOgoIj #NFL #Football #NFLNews #Superbowl\"}, {'id': '1453429010340454408', 'text': 'The NFL’s 7 biggest surprises so far this season - SB Nation https://t.co/Q7DjcwbDk0 #NFL #Football #NFLNews #Superbowl'}, {'id': '1453429005470748674', 'text': '👉 $54.00 👈\\nZubaz NFL Tennessee Titans Sweatshirt Size Medium Unisex Athletic Crew Neck w @topfanscorner \\n#Zubaz  #TennesseeTitans #Sweatshirt #Size #Medium #Unisex #NFL #Football #NFLfans \\n\\nHurry up to get it for the best price!\\nhttps://t.co/7hvGydQYvD'}, {'id': '1453428946012356613', 'text': 'Betting With Ladbrokes\\nBet €£5 Get €£20 In Free Bets\\n\\nNew Customers Offer\\n1. Deposit £5 Or More\\n2. Bet £5 On Any Sports Market\\n3. Get 4 x £5 free bets\\nDirect Link\\nhttps://t.co/NqzEECc2lu\\n\\n18+T&amp;Cs GambleResponsibly #PremierLeague\\n#bettingtips #PL #Football #EFL #Sport #Ad https://t.co/QMMD923ZUa'}, {'id': '1453428927788109825', 'text': '/!\\\\Arbitrage Found/!\\\\ \\n- Profit = 0.68% (Medium) \\n- Match = Nice vs Marseille\\n- Books = pinnacle/xbet/pinnacle\\n- Odds = 3.0 | 3.54 | 2.65\\n- Stakes[1000$] = 335.6$ | 284.4$ | 380.0$\\n- Date = Today\\n#football #sport #betting #bot'}, {'id': '1453428810016333833', 'text': '🚨 WEST HAM vs MAN CITY - Come and JOIN US LIVE 🚨\\n\\nhttps://t.co/EZ3H20CPKH\\n\\n#WHUMCI #WestHam #ManCity #EFLCup #CarabaoCup #EFL #Football\\u200b\\u200b\\u200b\\u200b\\u200b\\u200b\\u200b #Sport\\u200b\\u200b\\u200b\\u200b\\u200b\\u200b #Live\\u200b\\u200b\\u200b\\u200b\\u200b\\u200b\\u200b\\u200b\\u200b\\u200b #Soccer\\u200b\\u200b\\u200b\\u200b\\u200b\\u200b\\u200b #Sports\\u200b #Stream\\u200b #INPLAY'}, {'id': '1453428775668965382', 'text': '👉  👈\\nDan Marino Miami Dolphins Autographed Mitchell Ness Teal Replica Jersey  Autographed NFL @topfanscorner \\n#Dan #Marino #MiamiDolphins #Autographed #Mitchell #Ness #Teal #NFL #Football #NFLfans \\n\\nHurry up to get it for the best price!\\nhttps://t.co/GNcAKaaZoF'}, {'id': '1453428771269324804', 'text': 'Former Kaizer Chiefs legend helps Sekhukhune United humble AmaZulu\\n\\nhttps://t.co/HmXnAsRiYn #thesouthafrican #pslnews #southafrica #football #soccer'}, {'id': '1453428659675484163', 'text': '👉  👈\\nRawlings NFL 10x10 StraightLeg Tailgate Canopy Kansas City Chiefs Red 2231071111 @topfanscorner \\n#Rawlings  #x #StraightLeg #Tailgate #Canopy #Kansas #City #NFL #Football #NFLfans \\n\\nHurry up to get it for the best price!\\nhttps://t.co/rN5ZqQJlum'}, {'id': '1453428563286413317', 'text': 'Episode 4 is up, and later today we release our logo! #sports #podcast #nhl #nfl #CFL #football #hockey #baseball #mlb https://t.co/WMrfxR2Vj7'}, {'id': '1453428558211125249', 'text': '@DukeFOOTBALL looking to spook @FootballWake heading into Saturday’s matchup😈\\n\\n#DukeGang #acc #wakeforest #specmag #specmagsports #football https://t.co/zan8zR8LNC'}, {'id': '1453428555040317444', 'text': 'Thoughts on 5 subs being permanently re introduced?\\n\\nI think its the right thing to do with the volume of football being played and give you more tactical options in a match.\\n\\n#PL #CFC #Chelsea #football'}, {'id': '1453428482415935496', 'text': 'Dm me for help +1 (510) 877-1439\\n\\n#tamu #gigem #aggies #aggiefootball #aggieland #kylefield #gameday #12thman #aggiegammas #football #tamu21 #tamu22 #tamu23 #tamu24 https://t.co/fI4R2kgHl2 https://t.co/SvSHH2QhDK'}, {'id': '1453428272411389955', 'text': '#OnThisDay October 27, 1990, #GoldenGirls aired S6E6 \"Feelings\" Dorothy flunks a star #football player, and Rose is assaulted by her #dentist.  #BeaArthur #BettyWhite #RueMcClanahan #EstelleGetty #ChristopherDanielBarnes #wbw \\nhttps://t.co/Id8MoyKntj https://t.co/0tls1E4KWN'}, {'id': '1453428252404502538', 'text': 'Contact us now to customize your TEAM RING! Offered in Silver &amp; 14k Gold, with a variety of precious gemstones and diamonds! Starting at only $325!!! https://t.co/ah1K0C5mH2\\n#football #rings #Diamonds #GOLD #Silver https://t.co/UychVUzKIl'}, {'id': '1453428192513970182', 'text': 'UAE players are irritating 🥴\\n\\n#India #UAE #aiff #football'}, {'id': '1453428146783535109', 'text': 'Ayrshire Derby.\\n\\nAyr United 0-1 Kilmarnock, Somerset Park.\\n\\nScottish Championship.\\n\\nhttps://t.co/BOyed15rdW\\n\\nhttps://t.co/39YxVyRymX\\n\\n#AyrshireDerby #Ayr #AyrUnited #Kilmarnock #KilmarnockFC #ScottishFootball #Football #Soccer #Blog #Vlog'}, {'id': '1453428029305196545', 'text': 'West Ham United v Manchester City WATCH LIVE CANLI IZLE\\n#WHUMCI #CarabaoCup #Mancity #MATCHDAY #football #canlı #izle #watchlive #canlitvde #canlitv\\nhttps://t.co/SuR0EqrbvE'}, {'id': '1453427994345689089', 'text': '👉 $118.99 👈\\nTeam Golf NFL Green Bay Packers Travel Golf Bag HighImpact Plastic Wheelbase @topfanscorner \\n#Team #Golf  #GreenBayPackers #Travel #Golf #NFL #Football #NFLfans \\n\\nHurry up to get it for the best price!\\nhttps://t.co/7mHYDY93ON'}, {'id': '1453427945180000259', 'text': 'SOCCER ~ #LaLiga ~ 28 October 2021 ~ #Levante v #AtleticoMadrid ~ 21h30 ~ South African time ~ @AbongJorge @icarusjhb @kabloemski @JLikho11 @lepidipidi @NoniHarris_ @SportGuySbu @AndreH_NZ @AstroVuyo @mandlanm @604Online @rafael_agp @Wopper15 ~ #Soccer #Football #Spain'}, {'id': '1453427817606258691', 'text': '🚨HERE IT IS! #EFL Cup! There weren’t too many bookings last night but let’s have ago! #BURTOT #BetBuilder  #BOOKIEBASHING #Accas #bettingpicks #bettingtips #football #FreePicks #GamblingTwitter #MatchDay #BarstoolSportsbook #DKSportsbook https://t.co/yr0dGSdJi9'}, {'id': '1453427796664098822', 'text': 'Because #football always comes with a dose of glam. \\n\\n#1nt #terplove #footballinterpreter #TerpsOnTheRoad https://t.co/fWZbhwdF8W'}, {'id': '1453427736467415040', 'text': 'We don’t make picks often, but when we do,it’s with confidence! Claps reaction at the end…😂#football #sports #sportsbetting #bets #collegefootball #ncaa https://t.co/1lGoJY7qWp'}, {'id': '1453427728812699650', 'text': '👉 $164.99 👈\\nConcept One Miami Dolphins 21 Rolling CarryOn Suitcase @topfanscorner \\n#Concept #One #MiamiDolphins  #Rolling #CarryOn #Suitcase #NFL #Football #NFLfans \\n\\nHurry up to get it for the best price!\\nhttps://t.co/BbXvK9YcqO'}, {'id': '1453427727315341314', 'text': '#Barcelona are shit\\nHow many agree with me ??\\n\\n#LaLigaSantander #LaLiga #football'}, {'id': '1453427540370935813', 'text': 'Christmas gifts galore for the light blues 1 https://t.co/5MyzgfMAbs #walkingfootball #TheFAForAll #ageuk #walkingfutbol #over50sfitness #football #over50s #walking'}, {'id': '1453427458665967620', 'text': '👉 $136.25 👈\\nPegasus Sports NFL Rotating Levitating Hover Football with Bluetooth Speaker LED Lighting @topfanscorner \\n#Pegasus #Sports  #Rotating #Levitating #Hover #Football #with #NFL #Football #NFLfans \\n\\nHurry up to get it for the best price!\\nhttps://t.co/3lgDV2ZCpp'}, {'id': '1453427296040148999', 'text': '#Football #SerieA #Internazionale #Empoli #Eurosport Empoli v Inter - Follow LIVE: \"Empoli v Inter - Follow LIVE\" https://t.co/b3uE60GvdD https://t.co/gBT6x9gx0p'}, {'id': '1453427163626188814', 'text': \"It's #WHUMCI in the #CarabaoCup tonight so get in the mood with a look at former #Hammers maverick Paulo Futre and ex #City full back Wayne Bridge.\\n\\nhttps://t.co/maRGhhJ8Cq\\n\\nhttps://t.co/y4BclKYxx9\\n\\n#WHUFC #MCFC #WestHam #ManCity #EFLCup #LeagueCup #football https://t.co/9XbpBEHn3u\"}, {'id': '1453427155514232839', 'text': '👉 $100.00 👈\\nCincinnati Bengals Full Zip Hooded Sweater Medium @topfanscorner \\n#CincinnatiBengals #Full #Zip #Hooded #Sweater #Medium #NFL #Football #NFLfans \\n\\nHurry up to get it for the best price!\\nhttps://t.co/zPH5wK04RM'}, {'id': '1453426788764246017', 'text': '👉 $306.26 👈\\nImperial Officially Licensed NFL Pub Table Seattle Seahawks @topfanscorner \\n#Imperial #Officially #Licensed  #Pub #Table #SeattleSeahawks #NFL #Football #NFLfans \\n\\nHurry up to get it for the best price!\\nhttps://t.co/lBAyI4kf7s'}, {'id': '1453426786549833731', 'text': \"So proud of this one today, first tournament with @CambsFA advanced coaching centre, she absolutely loved it and can't wait more to come 💙⚽\\n#thisgirlcan #alltoplayfor #buildingthedream #footballislife #lioness #football #girlsofinsta #girlsfootball https://t.co/4Xf6rsNO0U\"}, {'id': '1453426783458676741', 'text': 'Pitt QB Kenny Pickett has Risen His Stock More Than Anyone Else This Year.\\nHe Is +1000 To Win The Heisman.\\n\\nTime To Put Some Respect On His Name.🏆🏆\\n\\n#Pittsburgh #Heisman #CollegeFootball #Sports #KennyPickett #Respect #Football #sportsbettingpicks https://t.co/ZpBHdNZVIq'}, {'id': '1453426476460568581', 'text': '👉 $339.99 👈\\nRiddell New York Giants Revolution Speed FullSize Authentic Football Helmet  NFL Authentic @topfanscorner \\n#Riddell #NewYorkGiants #Revolution #Speed #FullSize #Authentic #NFL #Football #NFLfans \\n\\nHurry up to get it for the best price!\\nhttps://t.co/8LgzOyrzAI'}, {'id': '1453426390385106947', 'text': 'Carabao Cup\\nBurnley vs Tottenham \\nLineups \\n\\n#fpl #fplcommunity #premierleague #fantasypl #fantasypremierleague #football #futball #soccer #scout #goal #assist #pass #shot @ Turf Moor https://t.co/nSXf3xtuLB'}, {'id': '1453426302204227585', 'text': 'IK Sirius - Hammarby (Allsvenskan, Studenternas IP)\\nFirst time in the completed new stadium in Uppsala. Quite nice with 3 wooden stands. And a decent match with lots of #pyro so far!\\n#groundhopping @Hammarbyfotboll #Bajen #Sweden #Allsvenskan #uppsala @siriusfotboll #football https://t.co/fnHNDvHk76'}, {'id': '1453426285124882434', 'text': '👉  👈\\nNike Mens Oakland Athletics Green DriFIT Legacy Raglan Polo Large @topfanscorner \\n#Nike #Mens #Oakland #Athletics #Green #DriFIT #Legacy #Raglan #NFL #Football #NFLfans \\n\\nHurry up to get it for the best price!\\nhttps://t.co/R0p9ezb7QL'}, {'id': '1453426284722327565', 'text': 'EVENING BANKER 💰\\n\\nEngland 🏴\\U000e0067\\U000e0062\\U000e0065\\U000e006e\\U000e0067\\U000e007f \\nMan City to win either half 📊\\n\\nGermany 🇩🇪 \\nBayern Munich to win either half 📊\\n\\nItaly 🇮🇹 \\nLazio vs Fiorentina both teams 2+ cards 🟡\\n\\nLike and follow if you’re on ❤️\\n\\n#inplay #betting #tips #football https://t.co/b73CHGippq'}, {'id': '1453426277659123712', 'text': '\"@OxfordshireFA\" COACHES | Do you coach 16–21 year-olds? ⚽\\n\\n#Oxfordshire FA are looking to gain more insight into youth #football and would appreciate any player feedback. 👍\\n\\nParticipants have the chance to win TWO … 📣\\n\\nInfo 📲https://t.co/OPCaCQpvRT https://t.co/jlhZgI6wis'}, {'id': '1453426170465247241', 'text': '/!\\\\Arbitrage Found/!\\\\ \\n- Profit = 0.78% (Medium) \\n- Match = Lazio vs Fiorentina\\n- Books = xbet/pinnacle/marathon\\n- Odds = 1.98 | 3.81 | 4.45\\n- Stakes[1000$] = 509.0$ | 264.5$ | 226.5$\\n- Date = Today\\n#football #sport #betting #bot'}, {'id': '1453426135241568261', 'text': 'Carabao Cup\\nLeicester vs Brighton \\nLineups \\n\\n#fpl #fplcommunity #premierleague #fantasypl #fantasypremierleague #football #futball #soccer #scout #goal #assist #pass #shot @ King Power Stadium https://t.co/YdO6ZiZ9XF'}, {'id': '1453425922397196289', 'text': '👉 $169.99 👈\\nDavante Adams Green Bay Packers Autographed White Panel Football  Autographed Footballs @topfanscorner \\n#Davante #Adams #GreenBayPackers #Autographed #White #Panel #NFL #Football #NFLfans \\n\\nHurry up to get it for the best price!\\nhttps://t.co/IZ2VoM0lhd'}, {'id': '1453425887819542532', 'text': '@vefeat @markgoldbridge #ManchesterUnited #MUFC \\n#PremierLeague #Football #MOTD \\n\\nDont forget your order for #Christmas lads 20% off for all #ManUtd fans...🥳🤣🥳  #TOTMUN \\n\\n@ManUtd @markgoldbridge @GNev2 @rioferdy5 @Evra @UnitedPeoplesTV @UnitedStandMUFC @ManUtd_AR @ManUtdMEN https://t.co/XWaaMc3lUz'}, {'id': '1453425873932193796', 'text': 'Carabao cup \\nBrentford Lineups vs Stoke \\n\\n#fpl #fplcommunity #premierleague #fantasypl #fantasypremierleague #football #futball #soccer #scout #goal #assist #pass #shot https://t.co/awwnrZ1UFf'}, {'id': '1453425862221697028', 'text': \"Q: What's Better Than Running By Yourself?\\nA: #Running With Your Kids In a #RoadRace!👍\\nThanks to Everyone Who Made the #OhioState 4 Miler an Awesome Event!\\nThe Icing On the Cake - Hanging Out On the #Football Field!😀\\nWhat a #BucketList #Memory!\\n#Travel #Ohio #Buckeyes #SeenInOH https://t.co/u5jdKxbs5E\"}, {'id': '1453425739517284352', 'text': \"Der Tag ist da.  🏳️\\u200d🌈\\n\\n'I'm a footballer and I'm gay.'\\n\\n#JoshCavallo #ComingOut #football \\n \\nhttps://t.co/ZszOLXvn3F\"}, {'id': '1453425564157558784', 'text': '👉 $319.99 👈\\nVictory Tailgate Jacksonville Jaguars 2 x 4 Triangle Weathered Regulation Cornhole Board @topfanscorner \\n#Victory #Tailgate #JacksonvilleJaguars  #x  #Triangle #NFL #Football #NFLfans \\n\\nHurry up to get it for the best price!\\nhttps://t.co/5aY8xhMumL'}, {'id': '1453425294640046083', 'text': 'Last chance to enter our @MatGuy5 book giveaway…\\n\\nHead to our pinned tweet now! #ASFC #Books #Football #Giveaway https://t.co/n1ALDjO42t'}, {'id': '1453425044575641610', 'text': \"It's almost Kick-Off here in Leicester tonight! What do you think to the line-up and match decisions from Rodgers? Comment down below here! \\n\\n#LeiBri #CarabaoCup #Football #Leicester #Brighton https://t.co/1iV97NOhWc\"}, {'id': '1453425034404454415', 'text': 'Many #happyreturns to #GlennHoddle born #OnThisDay in 1957 @SpursOfficial @Official_STFC #football #footballprogrammes @LadyCP1851 \\nhttps://t.co/8y3OHeo1ON https://t.co/wykl4m2U8G'}, {'id': '1453425024862408707', 'text': 'Expected Goals: Rocha vs. Uruguay Montevideo | #Uruguay: Segunda Division | KickOff: 2021-10-27 / 20:15:00 (UTC) |  #football #soccer #tipster #bettingtwitter #bettingtipster #bettingsports #bettingpicks #stats #footballtips #begambleaware 18+ https://t.co/rM5K34wNsE'}, {'id': '1453424840652701701', 'text': '👉 $169.99 👈\\nDave Krieg Seattle Seahawks Autographed Signed Logo End Zone Football Pylon Beckett @topfanscorner \\n#Dave #Krieg #SeattleSeahawks #Autographed #Signed #Logo #End #NFL #Football #NFLfans \\n\\nHurry up to get it for the best price!\\nhttps://t.co/tUet23XEIM'}, {'id': '1453424771127939075', 'text': '@BillKrackman timehop had this gem pop up. #timehop #joedamicosfootballforecast #cbs #cbsradio #cbssports #football #footballshow #bighit @1stladyofvegas https://t.co/29X9iWSLNv'}, {'id': '1453424578525417473', 'text': '👉 $198.03 👈\\nRawlings NFL 10x10 StraightLeg Tailgate Canopy Green Bay Packers @topfanscorner \\n#Rawlings  #x #StraightLeg #Tailgate #Canopy #Green #Bay #NFL #Football #NFLfans \\n\\nHurry up to get it for the best price!\\nhttps://t.co/pGEKHOJuA8'}, {'id': '1453424479950958595', 'text': '#Lazio vs #Fiorentina Live Streaming, Live Score, Team Prediction, Lineups, Kick-off Time: Serie A 2021-22\\n#LaziovsFiorentina #LazioFiorentina #LaziovFiorentina #Dream11 #dream11team #Fantasy #Football #SerieA #SerieA2021 #Italy #ItaliaTeam #Italian\\nhttps://t.co/uR48IztumL'}, {'id': '1453424275021516800', 'text': \"My exact words on @SkySportsNews this afternoon on @JoshuaCavallo coming out. 👌\\n\\nThanks for having me on #skysportsnews \\n\\nIt is ok to be #gay in #football \\n\\n⚽️🏳️\\u200d🌈 #LGBT #LGBTQ+\\n\\nCavallo coming out 'a monumental moment' https://t.co/rvSFq0KflB\"}, {'id': '1453424262094540801', 'text': 'Soccer Super League https://t.co/y7cBQSbAM6 #soccer #league #Football #31'}, {'id': '1453424232692551682', 'text': '👉 $150.00 👈\\nRay Lewis Signed Baltimore Ravens Autographed Speed Mini Helmet JSA @topfanscorner \\n#Ray #Lewis #Signed #BaltimoreRavens #Autographed #Speed #Mini #NFL #Football #NFLfans \\n\\nHurry up to get it for the best price!\\nhttps://t.co/hJ0h51sfRb'}, {'id': '1453424186702057475', 'text': 'Bit wet in Perth but St Johnstone v Hearts goes ahead. Big chance for Armand Gnanduillet to impress with Liam Boyce out. Stevie May and Ali Crawford back in the Saints team.\\n#Football #Scotland #HMFC #SJFC https://t.co/d1MdcTliXF'}, {'id': '1453424086055407620', 'text': 'Tempe is close to Phoenix &amp; Scottsdale. Tempe hosts art &amp; music events. Tempe is Home of ASU Sun Devils, Tempe Town Lake &amp; Tempe Beach Park ♥️🌵\\n#Tempe #Arizona #AZ #ForksUp #SunDevils #ASU #football #party #fun #college #DogRealtor ☎️ (602) 432-7230 https://t.co/lR2mEsiBmR'}, {'id': '1453424026194489346', 'text': 'Artificial Football Pitch Maintenance in Staffordshire #Football #Pitch #Maintenance  #Staffordshire https://t.co/OZJz7DdVRn'}, {'id': '1453423937153429506', 'text': '👉 $171.00 👈\\nTennessee Volunteers  Titan Steel @topfanscorner \\n#Tennessee #Volunteers  #Titan #Steel #NFL #Football #NFLfans \\n\\nHurry up to get it for the best price!\\nhttps://t.co/emueLBLj9V'}, {'id': '1453423928030810113', 'text': 'Common India\\n#football #indianfootball #India https://t.co/llUYTkeYYr'}, {'id': '1453423923325018115', 'text': '2021 NBA Hoops preview 😍\\n\\nWho’s the best rookie out of the 2021 class so far? \\n\\n(Via:@paniniamerica )\\n\\n.\\n.\\n.\\n\\nFollow: @cardheads\\n👉Join our FREE sports card Discord! Link in bio! 👈\\n\\n#sports #sportscards #thehobby #basketball #baseball #football https://t.co/ujIBv1cb48'}, {'id': '1453423760665501701', 'text': '##NFLVideos: Top 5 Rookies of Week 7 | Good Morning #Football \\n \\nhttps://t.co/fOlXpWSiuW\\n \\n#AmericanFootball #AmericanFootballVideos #FootballVideos #NationalFootballLeague #NFL #NFLVlog #Video #Videos #Vlog https://t.co/HUNXKROtLV'}, {'id': '1453423728021450754', 'text': 'Football season is heating up 🏈 @sasha_polar + @dasha.tomatto 🔥 #nakid #nakidmag #nakidinspo #nakidmagazine #football #footballmodel #sportsmodel #footballseason #footballislife #footballphotography #footballphoto #footballphotoshoot https://t.co/DO3DVApE3R'}, {'id': '1453423651785564161', 'text': '#Football #LeagueCup #Liverpool #PrestonNorthEnd #Eurosport Preston North End v Liverpool - Follow LIVE: \"Preston North End v Liverpool - Follow LIVE\" https://t.co/XBrcomwRJm https://t.co/knCuvut43f'}, {'id': '1453423641320775681', 'text': '👉 $70.80 👈\\nDallas Cowboys NFL Dallas Cowboys Womens Nike Salute To Service Jacket Black @topfanscorner \\n#DallasCowboys  #DallasCowboys #Womens #Nike #Salute #NFL #Football #NFLfans \\n\\nHurry up to get it for the best price!\\nhttps://t.co/MoBiQKzioT'}, {'id': '1453423533942530051', 'text': 'Resurfacing Artificial Football Pitch in New Skelton #Football #Pitch #Resurfacing  #New #Skelton https://t.co/QdrUbXZRar'}, {'id': '1453423433379827717', 'text': '👉 $169.99 👈\\nPhiladelphia Eagles Framed 23 x 27 Super Bowl LII Champions Team Collage @topfanscorner \\n#PhiladelphiaEagles #Framed  #x  #Super #Bowl #NFL #Football #NFLfans \\n\\nHurry up to get it for the best price!\\nhttps://t.co/95hugwwO1N'}, {'id': '1453423308062425096', 'text': '👉  👈\\nRico Industries Packers All Over Chrome Frame @topfanscorner \\n#Rico #Industries #Packers #All #Over #Chrome #Frame #NFL #Football #NFLfans \\n\\nHurry up to get it for the best price!\\nhttps://t.co/BgwrDz4jJk'}, {'id': '1453423138033700866', 'text': '👉 $89.99 👈\\nNORTHWEST NFL Tennessee Titans Comforter Sham Twin Draft @topfanscorner \\n#NORTHWEST  #TennesseeTitans #Comforter #Sham #Twin #Draft #NFL #Football #NFLfans \\n\\nHurry up to get it for the best price!\\nhttps://t.co/7rAJddJCwl'}, {'id': '1453422884102098952', 'text': '👉 $109.31 👈\\nThe Arizona Diamondbacks 2001 World Series Collectors Edition DVD @topfanscorner \\n#The #Arizona #Diamondbacks  #World #Series #Collectors #Edition #NFL #Football #NFLfans \\n\\nHurry up to get it for the best price!\\nhttps://t.co/GKs7fTctzr'}, {'id': '1453422779554926592', 'text': 'Congratulations @JoshuaCavallo for living your truth and becoming the first, and brave footballer to be out &amp; proud, in the world. You have opened the door for so many who needed this. Thank you for your courage and truth! \\n\\n#AFL #Football #LGBT #Adelaide\\n#ComingOut #JoshCavallo'}, {'id': '1453422665251770370', 'text': 'Real Betis vs Valencia: La Liga Live| Kick off time, Live Streaming, When and where to watch Real Betis vs Valencia, Live score\\n\\n#football #Epl #PremierLeague #LaLiga #RealBetis #Valencia #RealBetisValencia #Live\\n\\nhttps://t.co/rspmWJFX5z'}, {'id': '1453422661636345860', 'text': 'Both of these creatures are easily Puntable. Therefore if you encounter one you should punt it as hard as you can into the intended goal. Go Sports!!! #pokemon #pokemoncards #punt #football https://t.co/o9dsGm9VRD'}, {'id': '1453422538671808516', 'text': 'Check out #LasVegas  Locos #Locomotives #ufl  #football  Team #Logo Seat Cushion Rare #vintage   https://t.co/xxhdmlJOt1 via @eBay'}, {'id': '1453422382224269313', 'text': 'Josh Cavallo becomes world’s only ‘out’ gay professional footballer https://t.co/0mN3t6FUGb #News #WorldNews #football #gay'}, {'id': '1453422381746163717', 'text': '#News #WorldNews #football Josh Cavallo becomes world’s only ‘out’ gay professional footballer https://t.co/YBgOxxGd2l'}, {'id': '1453422381473550338', 'text': '#News #WorldNews #football Josh Cavallo becomes world’s only ‘out’ gay professional footballer https://t.co/cXYFBYLvbH'}, {'id': '1453422381121294340', 'text': 'Nice read.\\n\\n#Football\\n\\nhttps://t.co/9hvlXrt672'}, {'id': '1453422371965046784', 'text': \"Check out #LosAngeles  #Avengers  #AFL  Arena #football  Vintage #Logo T-Shirt Men's Med. Used #Murina https://t.co/mbjfCnbPMH via @eBay\"}, {'id': '1453422287856746502', 'text': '/!\\\\Arbitrage Found/!\\\\ \\n- Profit = 0.34% (Small) \\n- Match = Lazio vs Fiorentina\\n- Books = xbet/marathon/marathon\\n- Odds = 2.036 | 3.74 | 4.2\\n- Stakes[1000$] = 492.8$ | 268.3$ | 238.9$\\n- Date = Today\\n#football #sport #betting #bot'}, {'id': '1453422097535954948', 'text': '#Empoli vs Inter Milan Live Streaming, Live Score, Team Prediction, Lineups, Kick-off Time: Serie A 2021-22\\n#InterMilan #EmpolivsInterMilan #EmpoliInterMilan #Dream11 #dream11team #Fantasy #Football #SerieA #SerieA2021 #Italy #ItaliaTeam #Italian\\nhttps://t.co/y5YsjmfJNF'}, {'id': '1453422039092584451', 'text': 'Carabao Cup \\nLiverpool Lineup vs Preston \\n\\n#fpl #fplcommunity #premierleague #fantasypl #fantasypremierleague #football #futball #soccer #scout #goal #assist #pass #shot #Liverpool #lfc #liverpoolfc https://t.co/juBYqQuRLh'}, {'id': '1453421928161611781', 'text': '🔔 INPLAY Double 🇪🇸 🇸🇪\\n💷 0.25 Units\\n\\n#football #bettingpicks #inplay https://t.co/aFEVG4D1Gk'}, {'id': '1453421918032257027', 'text': '👍\\n @topfanscorner \\n #NFL #Football #NFLfans \\n\\nHurry up to get it for the best price!\\nhttps://t.co/g5IROYmSNf'}, {'id': '1453421878274560001', 'text': '🙏🏻🙏🏻🙏🏻 for #Matthew-broke his wrist last night at 🏈 practice. His season is over but the Wildcats are playing good #football heading into playoffs. Heal up &amp; back to work!'}, {'id': '1453421785345667075', 'text': '***LAST FEW PLACES LEFT***\\n\\nREALISE YOUR POTENTIAL, WITH BURNHAM FOOTBALL CLUB AND CASUAL BALLERZ\\n\\nRegister here https://t.co/JxRfF7Ujb1 @BallerzCasual @BurnhamFC1878 #football https://t.co/zxQRTbWR7j'}, {'id': '1453421732065329162', 'text': \"We are looking for dedicated people like YOU to join our team! We have a job for anyone who is willing to dedicate the team to our cause. Interviews start soon, so don't wait to sign up: https://t.co/CFNj6eprh3\\n\\n#MSLadyPanthers #MSPanthers #WNFC #Football #WomensFootball https://t.co/uFYpBITLbW\"}, {'id': '1453421717016100864', 'text': '@sohrobf @quharrison @fcflio @animocabrands @RSherman_25 @NBCLX @Sportico Would love to meet up, I love #Football, #Crypto, #NFTs &amp; #Data ! Cannot wait to get caught up on what is going on. Time mores so fast in this space. Have a fantastic day and week. This month has gone by so fast. Excited to make friends that think big and do big.\\n💚 #NFTNYC2021'}, {'id': '1453421710070403076', 'text': 'Will Baker Mayfield cook up a masterpiece this weekend against the Pittsburgh Steelers?\\n\\nhttps://t.co/uBsQ1YXCVz\\n\\n#ImportsDragon #NFLFigures #NFL #FootballFigures #Football #BakerMayfield #Mayfield #ClevelandBrowns #Cleveland #Browns https://t.co/sifdccYsA9'}], 'meta': {'newest_id': '1453429539321831428', 'oldest_id': '1453421710070403076', 'result_count': 100, 'next_token': 'b26v89c19zqg8o3fpdv71z9ol6ne2nmab913659sju7wd'}}\n"
     ]
    }
   ],
   "source": [
    "import requests\n",
    "response = requests.get(url, headers=headers, params=params)\n",
    "print(response)\n",
    "# Generar excepción si la respuesta no es exitosa\n",
    "if response.status_code != 200:\n",
    "    raise Exception(response.status_code, response.text)\n",
    "print(response.json())"
   ]
  },
  {
   "cell_type": "code",
   "execution_count": 31,
   "id": "81af144b",
   "metadata": {},
   "outputs": [
    {
     "data": {
      "text/html": [
       "<div>\n",
       "<style scoped>\n",
       "    .dataframe tbody tr th:only-of-type {\n",
       "        vertical-align: middle;\n",
       "    }\n",
       "\n",
       "    .dataframe tbody tr th {\n",
       "        vertical-align: top;\n",
       "    }\n",
       "\n",
       "    .dataframe thead th {\n",
       "        text-align: right;\n",
       "    }\n",
       "</style>\n",
       "<table border=\"1\" class=\"dataframe\">\n",
       "  <thead>\n",
       "    <tr style=\"text-align: right;\">\n",
       "      <th></th>\n",
       "      <th>id</th>\n",
       "      <th>text</th>\n",
       "    </tr>\n",
       "  </thead>\n",
       "  <tbody>\n",
       "    <tr>\n",
       "      <th>0</th>\n",
       "      <td>1453429539321831428</td>\n",
       "      <td>Preston N.E. v Liverpool WATCH LIVE CANLI IZLE...</td>\n",
       "    </tr>\n",
       "    <tr>\n",
       "      <th>1</th>\n",
       "      <td>1453429430739742730</td>\n",
       "      <td>#FollowBack #AndyMurray #Football #Tennis #Spo...</td>\n",
       "    </tr>\n",
       "    <tr>\n",
       "      <th>2</th>\n",
       "      <td>1453429397554294785</td>\n",
       "      <td>👉 $151.99 👈\\nPhiladelphia May 29 2010 Mega Tic...</td>\n",
       "    </tr>\n",
       "    <tr>\n",
       "      <th>3</th>\n",
       "      <td>1453429300875522050</td>\n",
       "      <td>👉 $8.99 👈\\nStickers Pack Cleveland Vinyl Caval...</td>\n",
       "    </tr>\n",
       "    <tr>\n",
       "      <th>4</th>\n",
       "      <td>1453429260065153032</td>\n",
       "      <td>It seems Barcelona is worse than Manchester Un...</td>\n",
       "    </tr>\n",
       "    <tr>\n",
       "      <th>...</th>\n",
       "      <td>...</td>\n",
       "      <td>...</td>\n",
       "    </tr>\n",
       "    <tr>\n",
       "      <th>95</th>\n",
       "      <td>1453421878274560001</td>\n",
       "      <td>🙏🏻🙏🏻🙏🏻 for #Matthew-broke his wrist last night...</td>\n",
       "    </tr>\n",
       "    <tr>\n",
       "      <th>96</th>\n",
       "      <td>1453421785345667075</td>\n",
       "      <td>***LAST FEW PLACES LEFT***\\n\\nREALISE YOUR POT...</td>\n",
       "    </tr>\n",
       "    <tr>\n",
       "      <th>97</th>\n",
       "      <td>1453421732065329162</td>\n",
       "      <td>We are looking for dedicated people like YOU t...</td>\n",
       "    </tr>\n",
       "    <tr>\n",
       "      <th>98</th>\n",
       "      <td>1453421717016100864</td>\n",
       "      <td>@sohrobf @quharrison @fcflio @animocabrands @R...</td>\n",
       "    </tr>\n",
       "    <tr>\n",
       "      <th>99</th>\n",
       "      <td>1453421710070403076</td>\n",
       "      <td>Will Baker Mayfield cook up a masterpiece this...</td>\n",
       "    </tr>\n",
       "  </tbody>\n",
       "</table>\n",
       "<p>100 rows × 2 columns</p>\n",
       "</div>"
      ],
      "text/plain": [
       "                     id                                               text\n",
       "0   1453429539321831428  Preston N.E. v Liverpool WATCH LIVE CANLI IZLE...\n",
       "1   1453429430739742730  #FollowBack #AndyMurray #Football #Tennis #Spo...\n",
       "2   1453429397554294785  👉 $151.99 👈\\nPhiladelphia May 29 2010 Mega Tic...\n",
       "3   1453429300875522050  👉 $8.99 👈\\nStickers Pack Cleveland Vinyl Caval...\n",
       "4   1453429260065153032  It seems Barcelona is worse than Manchester Un...\n",
       "..                  ...                                                ...\n",
       "95  1453421878274560001  🙏🏻🙏🏻🙏🏻 for #Matthew-broke his wrist last night...\n",
       "96  1453421785345667075  ***LAST FEW PLACES LEFT***\\n\\nREALISE YOUR POT...\n",
       "97  1453421732065329162  We are looking for dedicated people like YOU t...\n",
       "98  1453421717016100864  @sohrobf @quharrison @fcflio @animocabrands @R...\n",
       "99  1453421710070403076  Will Baker Mayfield cook up a masterpiece this...\n",
       "\n",
       "[100 rows x 2 columns]"
      ]
     },
     "execution_count": 31,
     "metadata": {},
     "output_type": "execute_result"
    }
   ],
   "source": [
    "import pandas as pd\n",
    "df = pd.json_normalize(response.json()['data'])\n",
    "df"
   ]
  },
  {
   "cell_type": "code",
   "execution_count": 32,
   "id": "c30b918b",
   "metadata": {},
   "outputs": [
    {
     "data": {
      "text/html": [
       "<div>\n",
       "<style scoped>\n",
       "    .dataframe tbody tr th:only-of-type {\n",
       "        vertical-align: middle;\n",
       "    }\n",
       "\n",
       "    .dataframe tbody tr th {\n",
       "        vertical-align: top;\n",
       "    }\n",
       "\n",
       "    .dataframe thead th {\n",
       "        text-align: right;\n",
       "    }\n",
       "</style>\n",
       "<table border=\"1\" class=\"dataframe\">\n",
       "  <thead>\n",
       "    <tr style=\"text-align: right;\">\n",
       "      <th></th>\n",
       "      <th>id</th>\n",
       "      <th>text</th>\n",
       "      <th>tokenized_text</th>\n",
       "    </tr>\n",
       "  </thead>\n",
       "  <tbody>\n",
       "    <tr>\n",
       "      <th>0</th>\n",
       "      <td>1453429539321831428</td>\n",
       "      <td>Preston N.E. v Liverpool WATCH LIVE CANLI IZLE...</td>\n",
       "      <td>[Preston, N, ., E, ., v, Liverpool, WATCH, LIV...</td>\n",
       "    </tr>\n",
       "    <tr>\n",
       "      <th>1</th>\n",
       "      <td>1453429430739742730</td>\n",
       "      <td>#FollowBack #AndyMurray #Football #Tennis #Spo...</td>\n",
       "      <td>[#FollowBack, #AndyMurray, #Football, #Tennis,...</td>\n",
       "    </tr>\n",
       "    <tr>\n",
       "      <th>2</th>\n",
       "      <td>1453429397554294785</td>\n",
       "      <td>👉 $151.99 👈\\nPhiladelphia May 29 2010 Mega Tic...</td>\n",
       "      <td>[👉, $, 151.99, 👈, Philadelphia, May, 29, 2010,...</td>\n",
       "    </tr>\n",
       "    <tr>\n",
       "      <th>3</th>\n",
       "      <td>1453429300875522050</td>\n",
       "      <td>👉 $8.99 👈\\nStickers Pack Cleveland Vinyl Caval...</td>\n",
       "      <td>[👉, $, 8.99, 👈, Stickers, Pack, Cleveland, Vin...</td>\n",
       "    </tr>\n",
       "    <tr>\n",
       "      <th>4</th>\n",
       "      <td>1453429260065153032</td>\n",
       "      <td>It seems Barcelona is worse than Manchester Un...</td>\n",
       "      <td>[It, seems, Barcelona, is, worse, than, Manche...</td>\n",
       "    </tr>\n",
       "    <tr>\n",
       "      <th>...</th>\n",
       "      <td>...</td>\n",
       "      <td>...</td>\n",
       "      <td>...</td>\n",
       "    </tr>\n",
       "    <tr>\n",
       "      <th>95</th>\n",
       "      <td>1453421878274560001</td>\n",
       "      <td>🙏🏻🙏🏻🙏🏻 for #Matthew-broke his wrist last night...</td>\n",
       "      <td>[🙏, 🏻, 🙏, 🏻, 🙏, 🏻, for, #Matthew-broke, his, w...</td>\n",
       "    </tr>\n",
       "    <tr>\n",
       "      <th>96</th>\n",
       "      <td>1453421785345667075</td>\n",
       "      <td>***LAST FEW PLACES LEFT***\\n\\nREALISE YOUR POT...</td>\n",
       "      <td>[*, *, *, LAST, FEW, PLACES, LEFT, *, *, *, RE...</td>\n",
       "    </tr>\n",
       "    <tr>\n",
       "      <th>97</th>\n",
       "      <td>1453421732065329162</td>\n",
       "      <td>We are looking for dedicated people like YOU t...</td>\n",
       "      <td>[We, are, looking, for, dedicated, people, lik...</td>\n",
       "    </tr>\n",
       "    <tr>\n",
       "      <th>98</th>\n",
       "      <td>1453421717016100864</td>\n",
       "      <td>@sohrobf @quharrison @fcflio @animocabrands @R...</td>\n",
       "      <td>[@sohrobf, @quharrison, @fcflio, @animocabrand...</td>\n",
       "    </tr>\n",
       "    <tr>\n",
       "      <th>99</th>\n",
       "      <td>1453421710070403076</td>\n",
       "      <td>Will Baker Mayfield cook up a masterpiece this...</td>\n",
       "      <td>[Will, Baker, Mayfield, cook, up, a, masterpie...</td>\n",
       "    </tr>\n",
       "  </tbody>\n",
       "</table>\n",
       "<p>100 rows × 3 columns</p>\n",
       "</div>"
      ],
      "text/plain": [
       "                     id                                               text  \\\n",
       "0   1453429539321831428  Preston N.E. v Liverpool WATCH LIVE CANLI IZLE...   \n",
       "1   1453429430739742730  #FollowBack #AndyMurray #Football #Tennis #Spo...   \n",
       "2   1453429397554294785  👉 $151.99 👈\\nPhiladelphia May 29 2010 Mega Tic...   \n",
       "3   1453429300875522050  👉 $8.99 👈\\nStickers Pack Cleveland Vinyl Caval...   \n",
       "4   1453429260065153032  It seems Barcelona is worse than Manchester Un...   \n",
       "..                  ...                                                ...   \n",
       "95  1453421878274560001  🙏🏻🙏🏻🙏🏻 for #Matthew-broke his wrist last night...   \n",
       "96  1453421785345667075  ***LAST FEW PLACES LEFT***\\n\\nREALISE YOUR POT...   \n",
       "97  1453421732065329162  We are looking for dedicated people like YOU t...   \n",
       "98  1453421717016100864  @sohrobf @quharrison @fcflio @animocabrands @R...   \n",
       "99  1453421710070403076  Will Baker Mayfield cook up a masterpiece this...   \n",
       "\n",
       "                                       tokenized_text  \n",
       "0   [Preston, N, ., E, ., v, Liverpool, WATCH, LIV...  \n",
       "1   [#FollowBack, #AndyMurray, #Football, #Tennis,...  \n",
       "2   [👉, $, 151.99, 👈, Philadelphia, May, 29, 2010,...  \n",
       "3   [👉, $, 8.99, 👈, Stickers, Pack, Cleveland, Vin...  \n",
       "4   [It, seems, Barcelona, is, worse, than, Manche...  \n",
       "..                                                ...  \n",
       "95  [🙏, 🏻, 🙏, 🏻, 🙏, 🏻, for, #Matthew-broke, his, w...  \n",
       "96  [*, *, *, LAST, FEW, PLACES, LEFT, *, *, *, RE...  \n",
       "97  [We, are, looking, for, dedicated, people, lik...  \n",
       "98  [@sohrobf, @quharrison, @fcflio, @animocabrand...  \n",
       "99  [Will, Baker, Mayfield, cook, up, a, masterpie...  \n",
       "\n",
       "[100 rows x 3 columns]"
      ]
     },
     "execution_count": 32,
     "metadata": {},
     "output_type": "execute_result"
    }
   ],
   "source": [
    "from nltk.tokenize import TweetTokenizer # libreria especifica para los tokenizar tweets \n",
    "tt = TweetTokenizer() # intanciamos ya que es un modelo lo que vamos a llamar\n",
    "# Aplicar Tokenizer a la columna\n",
    "tokenized_text = df['text'].apply(tt.tokenize)\n",
    "df[\"tokenized_text\"] = tokenized_text\n",
    "df"
   ]
  },
  {
   "cell_type": "code",
   "execution_count": 33,
   "id": "07d00866",
   "metadata": {},
   "outputs": [
    {
     "data": {
      "text/plain": [
       "0     [Preston, N, ., E, ., v, Liverpool, WATCH, LIV...\n",
       "1     [#FollowBack, #AndyMurray, #Football, #Tennis,...\n",
       "2     [👉, $, 151.99, 👈, Philadelphia, May, 29, 2010,...\n",
       "3     [👉, $, 8.99, 👈, Stickers, Pack, Cleveland, Vin...\n",
       "4     [It, seems, Barcelona, is, worse, than, Manche...\n",
       "                            ...                        \n",
       "95    [🙏, 🏻, 🙏, 🏻, 🙏, 🏻, for, #Matthew-broke, his, w...\n",
       "96    [*, *, *, LAST, FEW, PLACES, LEFT, *, *, *, RE...\n",
       "97    [We, are, looking, for, dedicated, people, lik...\n",
       "98    [@sohrobf, @quharrison, @fcflio, @animocabrand...\n",
       "99    [Will, Baker, Mayfield, cook, up, a, masterpie...\n",
       "Name: tokenized_text, Length: 100, dtype: object"
      ]
     },
     "execution_count": 33,
     "metadata": {},
     "output_type": "execute_result"
    }
   ],
   "source": [
    "df=df[['tokenized_text']]\n",
    "df"
   ]
  },
  {
   "cell_type": "code",
   "execution_count": null,
   "id": "d53e21a7",
   "metadata": {},
   "outputs": [],
   "source": []
  }
 ],
 "metadata": {
  "kernelspec": {
   "display_name": "Python 3",
   "language": "python",
   "name": "python3"
  },
  "language_info": {
   "codemirror_mode": {
    "name": "ipython",
    "version": 3
   },
   "file_extension": ".py",
   "mimetype": "text/x-python",
   "name": "python",
   "nbconvert_exporter": "python",
   "pygments_lexer": "ipython3",
   "version": "3.8.8"
  }
 },
 "nbformat": 4,
 "nbformat_minor": 5
}
