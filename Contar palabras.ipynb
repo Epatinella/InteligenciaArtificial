{
 "cells": [
  {
   "cell_type": "code",
   "execution_count": 1,
   "id": "298883b4",
   "metadata": {},
   "outputs": [],
   "source": [
    "nombre_archivo=\"contar-palabras.txt\""
   ]
  },
  {
   "cell_type": "code",
   "execution_count": 2,
   "id": "c7a76949",
   "metadata": {},
   "outputs": [
    {
     "name": "stdout",
     "output_type": "stream",
     "text": [
      "Marco teórico:\n",
      "Código PDF417:\t\n",
      "El Código PDF417, es un código de barras de 2 dimensiones. Fue desarrollado y patentado por el inventor estadounidense Doctor Ynjiun P. Wang en la empresa Symbol Technologies en el año de 1991.\n",
      "\tEstá formado por varias columnas y longitud variable. El número 417 significa que cada patrón en el código consiste en 4 barras y espacios, y que cada patrón es de 17 unidades de largo. Cada código de barras PDF417 puede tener entre 3 y 90 filas, entre 1 y 30 columnas, hasta 925 palabras de código de datos y entre 2 y 512 palabras de código de corrección de errores. Esto permite codificar hasta 1.033 bytes, 1.726 caracteres de texto o 2.528 caracteres numéricos. \n",
      "\n",
      "\n",
      "https://www.morovia.com/manuals/PDF417-Font-ware-Writer-SDK-4/chapter.overview.php\n",
      "\n",
      "\tEl patrón de inicio es un patrón unico. Se encuentra al inicio del código de barras (parte izquierda) y sirve para indicar que el código de barras comienza. El patrón de inicio de PDF417 es 81111113.\n",
      "\tEl indicador de fila izquierdo y derecho contienen información sobre las filas lineales del símbolo.\n",
      "\tEn las columnas de datos (Data codewords) se encuentran los datos que se desean almacenar en el símbolo.\n",
      "\tEl patrón de parada o fin, se encuentra al final del código de barras e indica que el código de barras está terminando. El patrón de parada PDF417 es 711311121.\n",
      "\t\n",
      "\t Ejemplo de código PDF417.\t\n",
      "Para leer el código PDF417, podemos utilizar escáneres polivalentes, lectores de códigos de barra de 2 dimensiones o con un software especial.\n",
      "Arquitectura REST:\n",
      "\tRest es una arquitectura de desarrollo web que puede ser utilizada en cualquier cliente HTTP. Fue diseñada por Roy Fielding en el año 2000. La principal ventaja de esta arquitectura es que ha aportado a la web una mayor escalabilidad, es decir, dan soporte a un mayor número de componentes y las interacciones entre ellos. Esta ventaja es gracias a una serie de características que presenta la arquitectura REST:\n",
      "Toda la información será enviada por el cliente en cada mensaje HTTP, consiguiendo un ahorro en variables de sesión y almacenamiento interno del servidor.\n",
      "Presenta un conjunto de operaciones bien definidas, siendo las más importantes GET, POST, PUT y DELETE.\n",
      "Emplea hipermedios para representar la información, que suelen ser HTML, XML o JSON.\n",
      "La arquitectura REST se relaciona con el estilo Cliente-Servidor. Separar el código del cliente (Frontend, donde se encuentra la aplicación que va a interactuar con el usuario) y el código del servidor (Backend, código que se encarga de la comunicación con la base de datos y el Frontend) es el principio de todo. Ya que el cliente se va a comunicar con el servidor a través de “http request” (peticiones http) y el servidor contestara con una “http response” (respuesta http). Estas peticiones y respuestas son las que van a tener la información en formato HTML, XML o JSON.\n",
      "JHipster:\n",
      "\tJHipster es una plataforma de desarrollo para generar, desarrollar e implementar rápidamente aplicaciones web y arquitecturas de microservicio modernas. Las tecnologías que esta plataforma admite para frontend son las siguientes:\n",
      "Angular \n",
      "React\n",
      "Vue. \n",
      "También posee soporte para aplicaciones móviles (Frontend) con: \n",
      "Ionic \n",
      "React Native.\n",
      " En el backend, admite:\n",
      "Spring Boot (con Java o Kotlin)\n",
      "Micronaut \n",
      "Quarkus \n",
      "Node.js \n",
      " .NET. \n",
      "Para la implementación, se adoptan los principios nativos de la nube con:\n",
      "Docker\n",
      "Kubernetes. \n",
      "También posee soporte de implementación para:\n",
      "AWS\n",
      "Azure \n",
      "Cloud Foundry \n",
      "Google Cloud Platform\n",
      "Heroku \n",
      "OpenShift.\n",
      "\n"
     ]
    }
   ],
   "source": [
    "archivo = open(nombre_archivo,mode='r')\n",
    "texto = archivo.read()\n",
    "archivo.close()\n",
    "# Podemos mostrar en pantalla el archivo que se acaba de cargar\n",
    "print(texto)"
   ]
  },
  {
   "cell_type": "code",
   "execution_count": 3,
   "id": "768e17ae",
   "metadata": {},
   "outputs": [
    {
     "name": "stdout",
     "output_type": "stream",
     "text": [
      "558\n"
     ]
    }
   ],
   "source": [
    "print(len(str.split(texto)))"
   ]
  },
  {
   "cell_type": "code",
   "execution_count": null,
   "id": "72bbcaae",
   "metadata": {},
   "outputs": [],
   "source": []
  }
 ],
 "metadata": {
  "kernelspec": {
   "display_name": "Python 3",
   "language": "python",
   "name": "python3"
  },
  "language_info": {
   "codemirror_mode": {
    "name": "ipython",
    "version": 3
   },
   "file_extension": ".py",
   "mimetype": "text/x-python",
   "name": "python",
   "nbconvert_exporter": "python",
   "pygments_lexer": "ipython3",
   "version": "3.8.8"
  }
 },
 "nbformat": 4,
 "nbformat_minor": 5
}
